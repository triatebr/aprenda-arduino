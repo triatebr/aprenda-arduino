{
  "nbformat": 4,
  "nbformat_minor": 0,
  "metadata": {
    "colab": {
      "name": "OpenData_TDC.ipynb",
      "version": "0.3.2",
      "provenance": [],
      "collapsed_sections": [],
      "include_colab_link": true
    },
    "kernelspec": {
      "name": "python3",
      "display_name": "Python 3"
    }
  },
  "cells": [
    {
      "cell_type": "markdown",
      "metadata": {
        "id": "view-in-github",
        "colab_type": "text"
      },
      "source": [
        "<a href=\"https://colab.research.google.com/github/triatebr/aprenda-arduino/blob/master/OpenData_TDC.ipynb\" target=\"_parent\"><img src=\"https://colab.research.google.com/assets/colab-badge.svg\" alt=\"Open In Colab\"/></a>"
      ]
    },
    {
      "cell_type": "markdown",
      "metadata": {
        "id": "baCo8xMkk4X3",
        "colab_type": "text"
      },
      "source": [
        "![logos](https://mundogeo.com/wp-content/uploads/2014/01/Plataforma-Dados-Abertos.jpg)\n"
      ]
    },
    {
      "cell_type": "markdown",
      "metadata": {
        "id": "noSxPUrDk5nr",
        "colab_type": "text"
      },
      "source": [
        "Hoje teremos contato com os conceitos/prática de **Dados Abertos** e realizaremos uma análise exploratória usando comandos do **Python** via [Colab.research](https://colab.research.google.com/notebooks/welcome.ipynb)"
      ]
    },
    {
      "cell_type": "code",
      "metadata": {
        "id": "9ODlU6jzky3e",
        "colab_type": "code",
        "colab": {}
      },
      "source": [
        "import pandas as pd\n",
        "import seaborn as sns\n",
        "import numpy as np\n",
        "import io\n",
        "import matplotlib.pyplot as plt\n",
        "%matplotlib inline"
      ],
      "execution_count": 0,
      "outputs": []
    },
    {
      "cell_type": "code",
      "metadata": {
        "id": "k_XZ38T6mcLl",
        "colab_type": "code",
        "colab": {}
      },
      "source": [
        "# Fonte dos dados: http://dados.gov.br/dataset/comite-nacional-para-os-refugiados\n",
        "url = 'https://www.justica.gov.br/seus-direitos/refugio/anexos/1990-a-2019-solicitacoes-de-reconhecimento-da-condicao-de-refugiado.xlsx'"
      ],
      "execution_count": 0,
      "outputs": []
    },
    {
      "cell_type": "code",
      "metadata": {
        "id": "3SW_HkYimpb7",
        "colab_type": "code",
        "colab": {}
      },
      "source": [
        "dfs = pd.read_excel(url,enconding='latin',delimiter=\";\")"
      ],
      "execution_count": 0,
      "outputs": []
    },
    {
      "cell_type": "code",
      "metadata": {
        "id": "8sEpxQ3Km8Jo",
        "colab_type": "code",
        "outputId": "a7bb4468-0ee6-461a-8d45-76a8f0b4c9f3",
        "colab": {
          "base_uri": "https://localhost:8080/",
          "height": 204
        }
      },
      "source": [
        "# Visualização das 5 primeiras linhas do dataframe, mas caso prefira mais linhas? insira o numero entre os '()'\n",
        "# Costuma-se usar nome sugestivos para os Dataframes, com foco na facilidade de lembrar e usar\n",
        "dfs.head()"
      ],
      "execution_count": 0,
      "outputs": [
        {
          "output_type": "execute_result",
          "data": {
            "text/html": [
              "<div>\n",
              "<style scoped>\n",
              "    .dataframe tbody tr th:only-of-type {\n",
              "        vertical-align: middle;\n",
              "    }\n",
              "\n",
              "    .dataframe tbody tr th {\n",
              "        vertical-align: top;\n",
              "    }\n",
              "\n",
              "    .dataframe thead th {\n",
              "        text-align: right;\n",
              "    }\n",
              "</style>\n",
              "<table border=\"1\" class=\"dataframe\">\n",
              "  <thead>\n",
              "    <tr style=\"text-align: right;\">\n",
              "      <th></th>\n",
              "      <th>Tipo de Alertas e Restrições</th>\n",
              "      <th>Nacionalidade</th>\n",
              "      <th>Mês/Ano</th>\n",
              "      <th>UF</th>\n",
              "      <th>Quantidade</th>\n",
              "    </tr>\n",
              "  </thead>\n",
              "  <tbody>\n",
              "    <tr>\n",
              "      <th>0</th>\n",
              "      <td>SOLICITAÇÃO DE REFÚGIO</td>\n",
              "      <td>AFEGANISTÃO</td>\n",
              "      <td>12/2001</td>\n",
              "      <td>DF</td>\n",
              "      <td>1</td>\n",
              "    </tr>\n",
              "    <tr>\n",
              "      <th>1</th>\n",
              "      <td>SOLICITAÇÃO DE REFÚGIO</td>\n",
              "      <td>AFEGANISTÃO</td>\n",
              "      <td>01/2010</td>\n",
              "      <td>DF</td>\n",
              "      <td>1</td>\n",
              "    </tr>\n",
              "    <tr>\n",
              "      <th>2</th>\n",
              "      <td>SOLICITAÇÃO DE REFÚGIO</td>\n",
              "      <td>AFEGANISTÃO</td>\n",
              "      <td>03/2010</td>\n",
              "      <td>DF</td>\n",
              "      <td>2</td>\n",
              "    </tr>\n",
              "    <tr>\n",
              "      <th>3</th>\n",
              "      <td>SOLICITAÇÃO DE REFÚGIO</td>\n",
              "      <td>AFEGANISTÃO</td>\n",
              "      <td>03/2010</td>\n",
              "      <td>SP</td>\n",
              "      <td>2</td>\n",
              "    </tr>\n",
              "    <tr>\n",
              "      <th>4</th>\n",
              "      <td>SOLICITAÇÃO DE REFÚGIO</td>\n",
              "      <td>AFEGANISTÃO</td>\n",
              "      <td>08/2010</td>\n",
              "      <td>DF</td>\n",
              "      <td>1</td>\n",
              "    </tr>\n",
              "  </tbody>\n",
              "</table>\n",
              "</div>"
            ],
            "text/plain": [
              "  Tipo de Alertas e Restrições Nacionalidade  Mês/Ano  UF  Quantidade\n",
              "0       SOLICITAÇÃO DE REFÚGIO   AFEGANISTÃO  12/2001  DF           1\n",
              "1       SOLICITAÇÃO DE REFÚGIO   AFEGANISTÃO  01/2010  DF           1\n",
              "2       SOLICITAÇÃO DE REFÚGIO   AFEGANISTÃO  03/2010  DF           2\n",
              "3       SOLICITAÇÃO DE REFÚGIO   AFEGANISTÃO  03/2010  SP           2\n",
              "4       SOLICITAÇÃO DE REFÚGIO   AFEGANISTÃO  08/2010  DF           1"
            ]
          },
          "metadata": {
            "tags": []
          },
          "execution_count": 15
        }
      ]
    },
    {
      "cell_type": "code",
      "metadata": {
        "id": "nwdMNeblpFbs",
        "colab_type": "code",
        "outputId": "3f13b78d-1c15-41f8-b39b-ddf06f192a28",
        "colab": {
          "base_uri": "https://localhost:8080/",
          "height": 34
        }
      },
      "source": [
        "# Quantidade de linhas e colunas do dataframe\n",
        "dfs.shape"
      ],
      "execution_count": 0,
      "outputs": [
        {
          "output_type": "execute_result",
          "data": {
            "text/plain": [
              "(11656, 5)"
            ]
          },
          "metadata": {
            "tags": []
          },
          "execution_count": 17
        }
      ]
    },
    {
      "cell_type": "code",
      "metadata": {
        "id": "Qx5bqo5DpIYz",
        "colab_type": "code",
        "outputId": "f504a230-7fa0-438e-a426-a3491a39f9ec",
        "colab": {
          "base_uri": "https://localhost:8080/",
          "height": 68
        }
      },
      "source": [
        "# Todas as colunas do dataframe\n",
        "dfs.columns"
      ],
      "execution_count": 0,
      "outputs": [
        {
          "output_type": "execute_result",
          "data": {
            "text/plain": [
              "Index(['Tipo de Alertas e Restrições', 'Nacionalidade', 'Mês/Ano', 'UF',\n",
              "       'Quantidade'],\n",
              "      dtype='object')"
            ]
          },
          "metadata": {
            "tags": []
          },
          "execution_count": 19
        }
      ]
    },
    {
      "cell_type": "code",
      "metadata": {
        "id": "nZv5FTSApHzq",
        "colab_type": "code",
        "outputId": "2217f425-112d-44a5-8f5d-2d9800935201",
        "colab": {
          "base_uri": "https://localhost:8080/",
          "height": 119
        }
      },
      "source": [
        "# Após a importação e visualização, como serão as colunas e características do nosso Dataframe?\n",
        "dfs.dtypes"
      ],
      "execution_count": 0,
      "outputs": [
        {
          "output_type": "execute_result",
          "data": {
            "text/plain": [
              "Tipo de Alertas e Restrições    object\n",
              "Nacionalidade                   object\n",
              "Mês/Ano                         object\n",
              "UF                              object\n",
              "Quantidade                       int64\n",
              "dtype: object"
            ]
          },
          "metadata": {
            "tags": []
          },
          "execution_count": 21
        }
      ]
    },
    {
      "cell_type": "markdown",
      "metadata": {
        "id": "KvDUKjk6p3fv",
        "colab_type": "text"
      },
      "source": [
        "Informação **NACIONALIDADE**"
      ]
    },
    {
      "cell_type": "code",
      "metadata": {
        "id": "Gc5fA11SpGK2",
        "colab_type": "code",
        "outputId": "55203f09-fb66-46d6-8037-7bdb06f4d44e",
        "colab": {
          "base_uri": "https://localhost:8080/",
          "height": 612
        }
      },
      "source": [
        "# Para sabermos os valores únicos de uma determinada coluna, usamos o 'unique()'\n",
        "dfs['Nacionalidade'].unique()"
      ],
      "execution_count": 0,
      "outputs": [
        {
          "output_type": "execute_result",
          "data": {
            "text/plain": [
              "array(['AFEGANISTÃO', 'ALBÂNIA', 'ALEMANHA', 'ANDORRA', 'ANGOLA',\n",
              "       'APÁTRIDA', 'ARGENTINA', 'ARGÉLIA', 'ARMÊNIA', 'ARÁBIA SAUDITA',\n",
              "       'AUSTRÁLIA', 'BANGLADESH', 'BARBADOS', 'BAREINE', 'BELARUS',\n",
              "       'BELIZE', 'BENIN', 'BHUTAN', 'BOLÍVIA', 'BRASIL', 'BULGÁRIA',\n",
              "       'BURKINA FASO', 'BURUNDI', 'BUTÃO', 'BÉLGICA',\n",
              "       'BÓSNIA E HERZEGOVINA', 'CABO VERDE', 'CAMARÕES', 'CAMBOJA',\n",
              "       'CANADÁ', 'CAZAQUISTÃO', 'CHILE', 'CHINA', 'COLÔMBIA', 'CONGO',\n",
              "       'CORÉIA DO NORTE', 'CORÉIA DO SUL', 'COSTA DO MARFIM',\n",
              "       'COSTA RICA', 'CROÁCIA', 'CUBA', 'DAOME', 'DINAMARCA', 'DJIBUTI',\n",
              "       'DOMINICA', 'EGITO', 'EL SALVADOR', 'EMIRADOS ÁRABES', 'EQUADOR',\n",
              "       'ERITRÉIA', 'ESLOVÁQUIA', 'ESPANHA', 'ESTADOS UNIDOS', 'ESTÔNIA',\n",
              "       'ETIÓPIA', 'FIJI, ILHAS', 'FILIPINAS', 'FRANÇA', 'GABÃO', 'GANA',\n",
              "       'GEÓRGIA', 'GRÉCIA', 'GUAM', 'GUATEMALA', 'GUIANA',\n",
              "       'GUIANA FRANCESA', 'GUINÉ', 'GUINÉ BISSAU', 'GUINÉ EQUATORIAL',\n",
              "       'GÂMBIA', 'HAITI', 'HONDURAS', 'HUNGRIA', 'INDONÉSIA', 'IRAQUE',\n",
              "       'IRLANDA', 'IRÃ', 'ISRAEL', 'ITÁLIA', 'IUGUSLAVIA', 'IÊMEN',\n",
              "       'JAMAICA', 'JAPÃO', 'JORDÂNIA', 'KUAITE', 'LAOS', 'LESOTO',\n",
              "       'LETÔNIA', 'LIBÉRIA', 'LITUÂNIA', 'LÍBANO', 'LÍBIA',\n",
              "       'MACAU (R.A.E.)', 'MACEDÔNIA', 'MALGAXE', 'MALI', 'MALTA',\n",
              "       'MALÁSIA', 'MARROCOS', 'MAURITÂNIA', 'MAURÍCIO', 'MONGÓLIA',\n",
              "       'MOÇAMBIQUE', 'MYANMAR', 'MÉXICO', 'NACIONALIDADE INDEFINIDA',\n",
              "       'NAMÍBIA', 'NEPAL', 'NICARÁGUA', 'NIGÉRIA', 'NORUEGA',\n",
              "       'NOVA ZELÂNDIA', 'NÍGER', 'PALESTINA', 'PANAMÁ', 'PAQUISTÃO',\n",
              "       'PARAGUAI', 'PAÍSES BAIXOS', 'PERU', 'POLÔNIA', 'PORTUGAL',\n",
              "       'QUÊNIA', 'REINO UNIDO', 'REP. CENTRO AFRICANA', 'REP. DOMINICANA',\n",
              "       'REPÚBLICA DEMOCRÁTICA DO CONGO', 'REPÚBLICA TCHECA', 'ROMÊNIA',\n",
              "       'RUANDA', 'RÚSSIA', 'SAARA OCIDENTAL\\n- SAARAUI, REPÚBLICA',\n",
              "       'SENEGAL', 'SERRA LEOA', 'SOMÁLIA', 'SRI LANKA',\n",
              "       'ST. PIERRE ET MIQUELON', 'SUDÃO', 'SURINAME', 'SUÉCIA', 'SUÍÇA',\n",
              "       'SÃO TOMÉ E PRÍNCIPE', 'SÉRVIA', 'SÍRIA', 'TAILÂNDIA', 'TAIWAN',\n",
              "       'TANZÂNIA', 'TOGO', 'TRINIDAD E TOBAGO', 'TUNÍSIA',\n",
              "       'TURCOMENISTÃO', 'TURQUIA', 'UCRÂNIA', 'UGANDA', 'UNIÃO SOVIÉTICA',\n",
              "       'URUGUAI', 'UZBEQUISTÃO', 'VANUATU', 'VATICANO', 'VENEZUELA',\n",
              "       'VIETNÃ', 'ZAIRE', 'ZIMBÁBUE', 'ZÂMBIA', 'ÁFRICA DO SUL', 'ÍNDIA'],\n",
              "      dtype=object)"
            ]
          },
          "metadata": {
            "tags": []
          },
          "execution_count": 22
        }
      ]
    },
    {
      "cell_type": "code",
      "metadata": {
        "id": "g5bbn_u8p0q3",
        "colab_type": "code",
        "outputId": "c021f9d5-90b1-4d2c-8869-740c8fff859b",
        "colab": {
          "base_uri": "https://localhost:8080/",
          "height": 1071
        }
      },
      "source": [
        "# Agrupando dados, inicialmente por Nacionalidade\n",
        "dfs['Nacionalidade'].value_counts()"
      ],
      "execution_count": 0,
      "outputs": [
        {
          "output_type": "execute_result",
          "data": {
            "text/plain": [
              "CUBA                              887\n",
              "HAITI                             775\n",
              "VENEZUELA                         665\n",
              "COLÔMBIA                          556\n",
              "SENEGAL                           469\n",
              "SÍRIA                             466\n",
              "BANGLADESH                        385\n",
              "GUINÉ BISSAU                      371\n",
              "ANGOLA                            343\n",
              "CONGO                             337\n",
              "PAQUISTÃO                         325\n",
              "GANA                              298\n",
              "NIGÉRIA                           294\n",
              "REP. DOMINICANA                   289\n",
              "LÍBANO                            255\n",
              "GUINÉ                             219\n",
              "MARROCOS                          178\n",
              "IRAQUE                            164\n",
              "PALESTINA                         150\n",
              "ÍNDIA                             147\n",
              "NACIONALIDADE INDEFINIDA          144\n",
              "EGITO                             137\n",
              "SERRA LEOA                        132\n",
              "TOGO                              131\n",
              "CAMARÕES                          124\n",
              "SOMÁLIA                           122\n",
              "REPÚBLICA DEMOCRÁTICA DO CONGO    118\n",
              "CHINA                             117\n",
              "GÂMBIA                            116\n",
              "BOLÍVIA                           113\n",
              "                                 ... \n",
              "TRINIDAD E TOBAGO                   2\n",
              "UZBEQUISTÃO                         2\n",
              "MACEDÔNIA                           2\n",
              "AUSTRÁLIA                           2\n",
              "ESLOVÁQUIA                          1\n",
              "MALGAXE                             1\n",
              "LETÔNIA                             1\n",
              "LAOS                                1\n",
              "CORÉIA DO NORTE                     1\n",
              "BELIZE                              1\n",
              "NORUEGA                             1\n",
              "IUGUSLAVIA                          1\n",
              "ESTÔNIA                             1\n",
              "BAREINE                             1\n",
              "GUAM                                1\n",
              "BÉLGICA                             1\n",
              "MONGÓLIA                            1\n",
              "BARBADOS                            1\n",
              "DAOME                               1\n",
              "BÓSNIA E HERZEGOVINA                1\n",
              "CAMBOJA                             1\n",
              "CROÁCIA                             1\n",
              "SUÍÇA                               1\n",
              "MAURÍCIO                            1\n",
              "BUTÃO                               1\n",
              "GABÃO                               1\n",
              "BELARUS                             1\n",
              "IRLANDA                             1\n",
              "ST. PIERRE ET MIQUELON              1\n",
              "CANADÁ                              1\n",
              "Name: Nacionalidade, Length: 165, dtype: int64"
            ]
          },
          "metadata": {
            "tags": []
          },
          "execution_count": 23
        }
      ]
    },
    {
      "cell_type": "code",
      "metadata": {
        "id": "BFoh58aOqIx8",
        "colab_type": "code",
        "outputId": "0789ba66-d4e4-4751-97ee-9a4cd92b804b",
        "colab": {
          "base_uri": "https://localhost:8080/",
          "height": 1969
        }
      },
      "source": [
        "#selecionando uma Nacionalidade específica\n",
        "dfs.loc[(dfs['Nacionalidade'] == 'BOLÍVIA')]"
      ],
      "execution_count": 0,
      "outputs": [
        {
          "output_type": "execute_result",
          "data": {
            "text/html": [
              "<div>\n",
              "<style scoped>\n",
              "    .dataframe tbody tr th:only-of-type {\n",
              "        vertical-align: middle;\n",
              "    }\n",
              "\n",
              "    .dataframe tbody tr th {\n",
              "        vertical-align: top;\n",
              "    }\n",
              "\n",
              "    .dataframe thead th {\n",
              "        text-align: right;\n",
              "    }\n",
              "</style>\n",
              "<table border=\"1\" class=\"dataframe\">\n",
              "  <thead>\n",
              "    <tr style=\"text-align: right;\">\n",
              "      <th></th>\n",
              "      <th>Tipo de Alertas e Restrições</th>\n",
              "      <th>Nacionalidade</th>\n",
              "      <th>Mês/Ano</th>\n",
              "      <th>UF</th>\n",
              "      <th>Quantidade</th>\n",
              "    </tr>\n",
              "  </thead>\n",
              "  <tbody>\n",
              "    <tr>\n",
              "      <th>1082</th>\n",
              "      <td>SOLICITAÇÃO DE REFÚGIO</td>\n",
              "      <td>BOLÍVIA</td>\n",
              "      <td>02/2002</td>\n",
              "      <td>SP</td>\n",
              "      <td>1</td>\n",
              "    </tr>\n",
              "    <tr>\n",
              "      <th>1083</th>\n",
              "      <td>SOLICITAÇÃO DE REFÚGIO</td>\n",
              "      <td>BOLÍVIA</td>\n",
              "      <td>06/2002</td>\n",
              "      <td>SP</td>\n",
              "      <td>7</td>\n",
              "    </tr>\n",
              "    <tr>\n",
              "      <th>1084</th>\n",
              "      <td>SOLICITAÇÃO DE REFÚGIO</td>\n",
              "      <td>BOLÍVIA</td>\n",
              "      <td>07/2002</td>\n",
              "      <td>SP</td>\n",
              "      <td>1</td>\n",
              "    </tr>\n",
              "    <tr>\n",
              "      <th>1085</th>\n",
              "      <td>SOLICITAÇÃO DE REFÚGIO</td>\n",
              "      <td>BOLÍVIA</td>\n",
              "      <td>01/2006</td>\n",
              "      <td>SP</td>\n",
              "      <td>1</td>\n",
              "    </tr>\n",
              "    <tr>\n",
              "      <th>1086</th>\n",
              "      <td>SOLICITAÇÃO DE REFÚGIO</td>\n",
              "      <td>BOLÍVIA</td>\n",
              "      <td>07/2006</td>\n",
              "      <td>SP</td>\n",
              "      <td>1</td>\n",
              "    </tr>\n",
              "    <tr>\n",
              "      <th>1087</th>\n",
              "      <td>SOLICITAÇÃO DE REFÚGIO</td>\n",
              "      <td>BOLÍVIA</td>\n",
              "      <td>11/2008</td>\n",
              "      <td>AC</td>\n",
              "      <td>16</td>\n",
              "    </tr>\n",
              "    <tr>\n",
              "      <th>1088</th>\n",
              "      <td>SOLICITAÇÃO DE REFÚGIO</td>\n",
              "      <td>BOLÍVIA</td>\n",
              "      <td>11/2008</td>\n",
              "      <td>DF</td>\n",
              "      <td>3</td>\n",
              "    </tr>\n",
              "    <tr>\n",
              "      <th>1089</th>\n",
              "      <td>SOLICITAÇÃO DE REFÚGIO</td>\n",
              "      <td>BOLÍVIA</td>\n",
              "      <td>11/2008</td>\n",
              "      <td>RO</td>\n",
              "      <td>3</td>\n",
              "    </tr>\n",
              "    <tr>\n",
              "      <th>1090</th>\n",
              "      <td>SOLICITAÇÃO DE REFÚGIO</td>\n",
              "      <td>BOLÍVIA</td>\n",
              "      <td>12/2008</td>\n",
              "      <td>AC</td>\n",
              "      <td>35</td>\n",
              "    </tr>\n",
              "    <tr>\n",
              "      <th>1091</th>\n",
              "      <td>SOLICITAÇÃO DE REFÚGIO</td>\n",
              "      <td>BOLÍVIA</td>\n",
              "      <td>12/2008</td>\n",
              "      <td>DF</td>\n",
              "      <td>5</td>\n",
              "    </tr>\n",
              "    <tr>\n",
              "      <th>1092</th>\n",
              "      <td>SOLICITAÇÃO DE REFÚGIO</td>\n",
              "      <td>BOLÍVIA</td>\n",
              "      <td>12/2008</td>\n",
              "      <td>RO</td>\n",
              "      <td>1</td>\n",
              "    </tr>\n",
              "    <tr>\n",
              "      <th>1093</th>\n",
              "      <td>SOLICITAÇÃO DE REFÚGIO</td>\n",
              "      <td>BOLÍVIA</td>\n",
              "      <td>01/2009</td>\n",
              "      <td>AC</td>\n",
              "      <td>142</td>\n",
              "    </tr>\n",
              "    <tr>\n",
              "      <th>1094</th>\n",
              "      <td>SOLICITAÇÃO DE REFÚGIO</td>\n",
              "      <td>BOLÍVIA</td>\n",
              "      <td>01/2009</td>\n",
              "      <td>DF</td>\n",
              "      <td>25</td>\n",
              "    </tr>\n",
              "    <tr>\n",
              "      <th>1095</th>\n",
              "      <td>SOLICITAÇÃO DE REFÚGIO</td>\n",
              "      <td>BOLÍVIA</td>\n",
              "      <td>01/2009</td>\n",
              "      <td>MS</td>\n",
              "      <td>1</td>\n",
              "    </tr>\n",
              "    <tr>\n",
              "      <th>1096</th>\n",
              "      <td>SOLICITAÇÃO DE REFÚGIO</td>\n",
              "      <td>BOLÍVIA</td>\n",
              "      <td>02/2009</td>\n",
              "      <td>AC</td>\n",
              "      <td>1</td>\n",
              "    </tr>\n",
              "    <tr>\n",
              "      <th>1097</th>\n",
              "      <td>SOLICITAÇÃO DE REFÚGIO</td>\n",
              "      <td>BOLÍVIA</td>\n",
              "      <td>03/2009</td>\n",
              "      <td>DF</td>\n",
              "      <td>1</td>\n",
              "    </tr>\n",
              "    <tr>\n",
              "      <th>1098</th>\n",
              "      <td>SOLICITAÇÃO DE REFÚGIO</td>\n",
              "      <td>BOLÍVIA</td>\n",
              "      <td>04/2009</td>\n",
              "      <td>AC</td>\n",
              "      <td>11</td>\n",
              "    </tr>\n",
              "    <tr>\n",
              "      <th>1099</th>\n",
              "      <td>SOLICITAÇÃO DE REFÚGIO</td>\n",
              "      <td>BOLÍVIA</td>\n",
              "      <td>04/2009</td>\n",
              "      <td>DF</td>\n",
              "      <td>2</td>\n",
              "    </tr>\n",
              "    <tr>\n",
              "      <th>1100</th>\n",
              "      <td>SOLICITAÇÃO DE REFÚGIO</td>\n",
              "      <td>BOLÍVIA</td>\n",
              "      <td>06/2009</td>\n",
              "      <td>AC</td>\n",
              "      <td>6</td>\n",
              "    </tr>\n",
              "    <tr>\n",
              "      <th>1101</th>\n",
              "      <td>SOLICITAÇÃO DE REFÚGIO</td>\n",
              "      <td>BOLÍVIA</td>\n",
              "      <td>06/2009</td>\n",
              "      <td>DF</td>\n",
              "      <td>2</td>\n",
              "    </tr>\n",
              "    <tr>\n",
              "      <th>1102</th>\n",
              "      <td>SOLICITAÇÃO DE REFÚGIO</td>\n",
              "      <td>BOLÍVIA</td>\n",
              "      <td>08/2009</td>\n",
              "      <td>RO</td>\n",
              "      <td>1</td>\n",
              "    </tr>\n",
              "    <tr>\n",
              "      <th>1103</th>\n",
              "      <td>SOLICITAÇÃO DE REFÚGIO</td>\n",
              "      <td>BOLÍVIA</td>\n",
              "      <td>01/2010</td>\n",
              "      <td>AC</td>\n",
              "      <td>5</td>\n",
              "    </tr>\n",
              "    <tr>\n",
              "      <th>1104</th>\n",
              "      <td>SOLICITAÇÃO DE REFÚGIO</td>\n",
              "      <td>BOLÍVIA</td>\n",
              "      <td>03/2010</td>\n",
              "      <td>AC</td>\n",
              "      <td>4</td>\n",
              "    </tr>\n",
              "    <tr>\n",
              "      <th>1105</th>\n",
              "      <td>SOLICITAÇÃO DE REFÚGIO</td>\n",
              "      <td>BOLÍVIA</td>\n",
              "      <td>03/2010</td>\n",
              "      <td>MS</td>\n",
              "      <td>1</td>\n",
              "    </tr>\n",
              "    <tr>\n",
              "      <th>1106</th>\n",
              "      <td>SOLICITAÇÃO DE REFÚGIO</td>\n",
              "      <td>BOLÍVIA</td>\n",
              "      <td>07/2010</td>\n",
              "      <td>AC</td>\n",
              "      <td>1</td>\n",
              "    </tr>\n",
              "    <tr>\n",
              "      <th>1107</th>\n",
              "      <td>SOLICITAÇÃO DE REFÚGIO</td>\n",
              "      <td>BOLÍVIA</td>\n",
              "      <td>07/2010</td>\n",
              "      <td>MS</td>\n",
              "      <td>1</td>\n",
              "    </tr>\n",
              "    <tr>\n",
              "      <th>1108</th>\n",
              "      <td>SOLICITAÇÃO DE REFÚGIO</td>\n",
              "      <td>BOLÍVIA</td>\n",
              "      <td>08/2010</td>\n",
              "      <td>AC</td>\n",
              "      <td>2</td>\n",
              "    </tr>\n",
              "    <tr>\n",
              "      <th>1109</th>\n",
              "      <td>SOLICITAÇÃO DE REFÚGIO</td>\n",
              "      <td>BOLÍVIA</td>\n",
              "      <td>09/2010</td>\n",
              "      <td>AC</td>\n",
              "      <td>5</td>\n",
              "    </tr>\n",
              "    <tr>\n",
              "      <th>1110</th>\n",
              "      <td>SOLICITAÇÃO DE REFÚGIO</td>\n",
              "      <td>BOLÍVIA</td>\n",
              "      <td>09/2010</td>\n",
              "      <td>MS</td>\n",
              "      <td>1</td>\n",
              "    </tr>\n",
              "    <tr>\n",
              "      <th>1111</th>\n",
              "      <td>SOLICITAÇÃO DE REFÚGIO</td>\n",
              "      <td>BOLÍVIA</td>\n",
              "      <td>10/2010</td>\n",
              "      <td>AC</td>\n",
              "      <td>3</td>\n",
              "    </tr>\n",
              "    <tr>\n",
              "      <th>...</th>\n",
              "      <td>...</td>\n",
              "      <td>...</td>\n",
              "      <td>...</td>\n",
              "      <td>...</td>\n",
              "      <td>...</td>\n",
              "    </tr>\n",
              "    <tr>\n",
              "      <th>1165</th>\n",
              "      <td>SOLICITAÇÃO DE REFÚGIO</td>\n",
              "      <td>BOLÍVIA</td>\n",
              "      <td>06/2017</td>\n",
              "      <td>SP</td>\n",
              "      <td>1</td>\n",
              "    </tr>\n",
              "    <tr>\n",
              "      <th>1166</th>\n",
              "      <td>SOLICITAÇÃO DE REFÚGIO</td>\n",
              "      <td>BOLÍVIA</td>\n",
              "      <td>07/2017</td>\n",
              "      <td>DF</td>\n",
              "      <td>1</td>\n",
              "    </tr>\n",
              "    <tr>\n",
              "      <th>1167</th>\n",
              "      <td>SOLICITAÇÃO DE REFÚGIO</td>\n",
              "      <td>BOLÍVIA</td>\n",
              "      <td>09/2017</td>\n",
              "      <td>RJ</td>\n",
              "      <td>1</td>\n",
              "    </tr>\n",
              "    <tr>\n",
              "      <th>1168</th>\n",
              "      <td>SOLICITAÇÃO DE REFÚGIO</td>\n",
              "      <td>BOLÍVIA</td>\n",
              "      <td>10/2017</td>\n",
              "      <td>SP</td>\n",
              "      <td>2</td>\n",
              "    </tr>\n",
              "    <tr>\n",
              "      <th>1169</th>\n",
              "      <td>SOLICITAÇÃO DE REFÚGIO</td>\n",
              "      <td>BOLÍVIA</td>\n",
              "      <td>01/2018</td>\n",
              "      <td>AM</td>\n",
              "      <td>1</td>\n",
              "    </tr>\n",
              "    <tr>\n",
              "      <th>1170</th>\n",
              "      <td>SOLICITAÇÃO DE REFÚGIO</td>\n",
              "      <td>BOLÍVIA</td>\n",
              "      <td>02/2018</td>\n",
              "      <td>SP</td>\n",
              "      <td>1</td>\n",
              "    </tr>\n",
              "    <tr>\n",
              "      <th>1171</th>\n",
              "      <td>SOLICITAÇÃO DE REFÚGIO</td>\n",
              "      <td>BOLÍVIA</td>\n",
              "      <td>03/2018</td>\n",
              "      <td>MS</td>\n",
              "      <td>1</td>\n",
              "    </tr>\n",
              "    <tr>\n",
              "      <th>1172</th>\n",
              "      <td>SOLICITAÇÃO DE REFÚGIO</td>\n",
              "      <td>BOLÍVIA</td>\n",
              "      <td>04/2018</td>\n",
              "      <td>SP</td>\n",
              "      <td>1</td>\n",
              "    </tr>\n",
              "    <tr>\n",
              "      <th>1173</th>\n",
              "      <td>SOLICITAÇÃO DE REFÚGIO</td>\n",
              "      <td>BOLÍVIA</td>\n",
              "      <td>05/2018</td>\n",
              "      <td>AM</td>\n",
              "      <td>1</td>\n",
              "    </tr>\n",
              "    <tr>\n",
              "      <th>1174</th>\n",
              "      <td>SOLICITAÇÃO DE REFÚGIO</td>\n",
              "      <td>BOLÍVIA</td>\n",
              "      <td>05/2018</td>\n",
              "      <td>RR</td>\n",
              "      <td>1</td>\n",
              "    </tr>\n",
              "    <tr>\n",
              "      <th>1175</th>\n",
              "      <td>SOLICITAÇÃO DE REFÚGIO</td>\n",
              "      <td>BOLÍVIA</td>\n",
              "      <td>06/2018</td>\n",
              "      <td>AC</td>\n",
              "      <td>3</td>\n",
              "    </tr>\n",
              "    <tr>\n",
              "      <th>1176</th>\n",
              "      <td>SOLICITAÇÃO DE REFÚGIO</td>\n",
              "      <td>BOLÍVIA</td>\n",
              "      <td>06/2018</td>\n",
              "      <td>MG</td>\n",
              "      <td>1</td>\n",
              "    </tr>\n",
              "    <tr>\n",
              "      <th>1177</th>\n",
              "      <td>SOLICITAÇÃO DE REFÚGIO</td>\n",
              "      <td>BOLÍVIA</td>\n",
              "      <td>06/2018</td>\n",
              "      <td>SP</td>\n",
              "      <td>1</td>\n",
              "    </tr>\n",
              "    <tr>\n",
              "      <th>1178</th>\n",
              "      <td>SOLICITAÇÃO DE REFÚGIO</td>\n",
              "      <td>BOLÍVIA</td>\n",
              "      <td>07/2018</td>\n",
              "      <td>AM</td>\n",
              "      <td>1</td>\n",
              "    </tr>\n",
              "    <tr>\n",
              "      <th>1179</th>\n",
              "      <td>SOLICITAÇÃO DE REFÚGIO</td>\n",
              "      <td>BOLÍVIA</td>\n",
              "      <td>08/2018</td>\n",
              "      <td>AM</td>\n",
              "      <td>1</td>\n",
              "    </tr>\n",
              "    <tr>\n",
              "      <th>1180</th>\n",
              "      <td>SOLICITAÇÃO DE REFÚGIO</td>\n",
              "      <td>BOLÍVIA</td>\n",
              "      <td>08/2018</td>\n",
              "      <td>SP</td>\n",
              "      <td>1</td>\n",
              "    </tr>\n",
              "    <tr>\n",
              "      <th>1181</th>\n",
              "      <td>SOLICITAÇÃO DE REFÚGIO</td>\n",
              "      <td>BOLÍVIA</td>\n",
              "      <td>09/2018</td>\n",
              "      <td>DF</td>\n",
              "      <td>1</td>\n",
              "    </tr>\n",
              "    <tr>\n",
              "      <th>1182</th>\n",
              "      <td>SOLICITAÇÃO DE REFÚGIO</td>\n",
              "      <td>BOLÍVIA</td>\n",
              "      <td>09/2018</td>\n",
              "      <td>MT</td>\n",
              "      <td>1</td>\n",
              "    </tr>\n",
              "    <tr>\n",
              "      <th>1183</th>\n",
              "      <td>SOLICITAÇÃO DE REFÚGIO</td>\n",
              "      <td>BOLÍVIA</td>\n",
              "      <td>09/2018</td>\n",
              "      <td>SP</td>\n",
              "      <td>1</td>\n",
              "    </tr>\n",
              "    <tr>\n",
              "      <th>1184</th>\n",
              "      <td>SOLICITAÇÃO DE REFÚGIO</td>\n",
              "      <td>BOLÍVIA</td>\n",
              "      <td>10/2018</td>\n",
              "      <td>AM</td>\n",
              "      <td>4</td>\n",
              "    </tr>\n",
              "    <tr>\n",
              "      <th>1185</th>\n",
              "      <td>SOLICITAÇÃO DE REFÚGIO</td>\n",
              "      <td>BOLÍVIA</td>\n",
              "      <td>10/2018</td>\n",
              "      <td>GO</td>\n",
              "      <td>1</td>\n",
              "    </tr>\n",
              "    <tr>\n",
              "      <th>1186</th>\n",
              "      <td>SOLICITAÇÃO DE REFÚGIO</td>\n",
              "      <td>BOLÍVIA</td>\n",
              "      <td>10/2018</td>\n",
              "      <td>RR</td>\n",
              "      <td>1</td>\n",
              "    </tr>\n",
              "    <tr>\n",
              "      <th>1187</th>\n",
              "      <td>SOLICITAÇÃO DE REFÚGIO</td>\n",
              "      <td>BOLÍVIA</td>\n",
              "      <td>10/2018</td>\n",
              "      <td>SC</td>\n",
              "      <td>1</td>\n",
              "    </tr>\n",
              "    <tr>\n",
              "      <th>1188</th>\n",
              "      <td>SOLICITAÇÃO DE REFÚGIO</td>\n",
              "      <td>BOLÍVIA</td>\n",
              "      <td>12/2018</td>\n",
              "      <td>AC</td>\n",
              "      <td>1</td>\n",
              "    </tr>\n",
              "    <tr>\n",
              "      <th>1189</th>\n",
              "      <td>SOLICITAÇÃO DE REFÚGIO</td>\n",
              "      <td>BOLÍVIA</td>\n",
              "      <td>01/2019</td>\n",
              "      <td>DF</td>\n",
              "      <td>1</td>\n",
              "    </tr>\n",
              "    <tr>\n",
              "      <th>1190</th>\n",
              "      <td>SOLICITAÇÃO DE REFÚGIO</td>\n",
              "      <td>BOLÍVIA</td>\n",
              "      <td>01/2019</td>\n",
              "      <td>MS</td>\n",
              "      <td>1</td>\n",
              "    </tr>\n",
              "    <tr>\n",
              "      <th>1191</th>\n",
              "      <td>SOLICITAÇÃO DE REFÚGIO</td>\n",
              "      <td>BOLÍVIA</td>\n",
              "      <td>01/2019</td>\n",
              "      <td>SP</td>\n",
              "      <td>2</td>\n",
              "    </tr>\n",
              "    <tr>\n",
              "      <th>1192</th>\n",
              "      <td>SOLICITAÇÃO DE REFÚGIO</td>\n",
              "      <td>BOLÍVIA</td>\n",
              "      <td>02/2019</td>\n",
              "      <td>SP</td>\n",
              "      <td>3</td>\n",
              "    </tr>\n",
              "    <tr>\n",
              "      <th>1193</th>\n",
              "      <td>SOLICITAÇÃO DE REFÚGIO</td>\n",
              "      <td>BOLÍVIA</td>\n",
              "      <td>03/2019</td>\n",
              "      <td>RJ</td>\n",
              "      <td>2</td>\n",
              "    </tr>\n",
              "    <tr>\n",
              "      <th>1194</th>\n",
              "      <td>SOLICITAÇÃO DE REFÚGIO</td>\n",
              "      <td>BOLÍVIA</td>\n",
              "      <td>03/2019</td>\n",
              "      <td>SP</td>\n",
              "      <td>1</td>\n",
              "    </tr>\n",
              "  </tbody>\n",
              "</table>\n",
              "<p>113 rows × 5 columns</p>\n",
              "</div>"
            ],
            "text/plain": [
              "     Tipo de Alertas e Restrições Nacionalidade  Mês/Ano  UF  Quantidade\n",
              "1082       SOLICITAÇÃO DE REFÚGIO       BOLÍVIA  02/2002  SP           1\n",
              "1083       SOLICITAÇÃO DE REFÚGIO       BOLÍVIA  06/2002  SP           7\n",
              "1084       SOLICITAÇÃO DE REFÚGIO       BOLÍVIA  07/2002  SP           1\n",
              "1085       SOLICITAÇÃO DE REFÚGIO       BOLÍVIA  01/2006  SP           1\n",
              "1086       SOLICITAÇÃO DE REFÚGIO       BOLÍVIA  07/2006  SP           1\n",
              "1087       SOLICITAÇÃO DE REFÚGIO       BOLÍVIA  11/2008  AC          16\n",
              "1088       SOLICITAÇÃO DE REFÚGIO       BOLÍVIA  11/2008  DF           3\n",
              "1089       SOLICITAÇÃO DE REFÚGIO       BOLÍVIA  11/2008  RO           3\n",
              "1090       SOLICITAÇÃO DE REFÚGIO       BOLÍVIA  12/2008  AC          35\n",
              "1091       SOLICITAÇÃO DE REFÚGIO       BOLÍVIA  12/2008  DF           5\n",
              "1092       SOLICITAÇÃO DE REFÚGIO       BOLÍVIA  12/2008  RO           1\n",
              "1093       SOLICITAÇÃO DE REFÚGIO       BOLÍVIA  01/2009  AC         142\n",
              "1094       SOLICITAÇÃO DE REFÚGIO       BOLÍVIA  01/2009  DF          25\n",
              "1095       SOLICITAÇÃO DE REFÚGIO       BOLÍVIA  01/2009  MS           1\n",
              "1096       SOLICITAÇÃO DE REFÚGIO       BOLÍVIA  02/2009  AC           1\n",
              "1097       SOLICITAÇÃO DE REFÚGIO       BOLÍVIA  03/2009  DF           1\n",
              "1098       SOLICITAÇÃO DE REFÚGIO       BOLÍVIA  04/2009  AC          11\n",
              "1099       SOLICITAÇÃO DE REFÚGIO       BOLÍVIA  04/2009  DF           2\n",
              "1100       SOLICITAÇÃO DE REFÚGIO       BOLÍVIA  06/2009  AC           6\n",
              "1101       SOLICITAÇÃO DE REFÚGIO       BOLÍVIA  06/2009  DF           2\n",
              "1102       SOLICITAÇÃO DE REFÚGIO       BOLÍVIA  08/2009  RO           1\n",
              "1103       SOLICITAÇÃO DE REFÚGIO       BOLÍVIA  01/2010  AC           5\n",
              "1104       SOLICITAÇÃO DE REFÚGIO       BOLÍVIA  03/2010  AC           4\n",
              "1105       SOLICITAÇÃO DE REFÚGIO       BOLÍVIA  03/2010  MS           1\n",
              "1106       SOLICITAÇÃO DE REFÚGIO       BOLÍVIA  07/2010  AC           1\n",
              "1107       SOLICITAÇÃO DE REFÚGIO       BOLÍVIA  07/2010  MS           1\n",
              "1108       SOLICITAÇÃO DE REFÚGIO       BOLÍVIA  08/2010  AC           2\n",
              "1109       SOLICITAÇÃO DE REFÚGIO       BOLÍVIA  09/2010  AC           5\n",
              "1110       SOLICITAÇÃO DE REFÚGIO       BOLÍVIA  09/2010  MS           1\n",
              "1111       SOLICITAÇÃO DE REFÚGIO       BOLÍVIA  10/2010  AC           3\n",
              "...                           ...           ...      ...  ..         ...\n",
              "1165       SOLICITAÇÃO DE REFÚGIO       BOLÍVIA  06/2017  SP           1\n",
              "1166       SOLICITAÇÃO DE REFÚGIO       BOLÍVIA  07/2017  DF           1\n",
              "1167       SOLICITAÇÃO DE REFÚGIO       BOLÍVIA  09/2017  RJ           1\n",
              "1168       SOLICITAÇÃO DE REFÚGIO       BOLÍVIA  10/2017  SP           2\n",
              "1169       SOLICITAÇÃO DE REFÚGIO       BOLÍVIA  01/2018  AM           1\n",
              "1170       SOLICITAÇÃO DE REFÚGIO       BOLÍVIA  02/2018  SP           1\n",
              "1171       SOLICITAÇÃO DE REFÚGIO       BOLÍVIA  03/2018  MS           1\n",
              "1172       SOLICITAÇÃO DE REFÚGIO       BOLÍVIA  04/2018  SP           1\n",
              "1173       SOLICITAÇÃO DE REFÚGIO       BOLÍVIA  05/2018  AM           1\n",
              "1174       SOLICITAÇÃO DE REFÚGIO       BOLÍVIA  05/2018  RR           1\n",
              "1175       SOLICITAÇÃO DE REFÚGIO       BOLÍVIA  06/2018  AC           3\n",
              "1176       SOLICITAÇÃO DE REFÚGIO       BOLÍVIA  06/2018  MG           1\n",
              "1177       SOLICITAÇÃO DE REFÚGIO       BOLÍVIA  06/2018  SP           1\n",
              "1178       SOLICITAÇÃO DE REFÚGIO       BOLÍVIA  07/2018  AM           1\n",
              "1179       SOLICITAÇÃO DE REFÚGIO       BOLÍVIA  08/2018  AM           1\n",
              "1180       SOLICITAÇÃO DE REFÚGIO       BOLÍVIA  08/2018  SP           1\n",
              "1181       SOLICITAÇÃO DE REFÚGIO       BOLÍVIA  09/2018  DF           1\n",
              "1182       SOLICITAÇÃO DE REFÚGIO       BOLÍVIA  09/2018  MT           1\n",
              "1183       SOLICITAÇÃO DE REFÚGIO       BOLÍVIA  09/2018  SP           1\n",
              "1184       SOLICITAÇÃO DE REFÚGIO       BOLÍVIA  10/2018  AM           4\n",
              "1185       SOLICITAÇÃO DE REFÚGIO       BOLÍVIA  10/2018  GO           1\n",
              "1186       SOLICITAÇÃO DE REFÚGIO       BOLÍVIA  10/2018  RR           1\n",
              "1187       SOLICITAÇÃO DE REFÚGIO       BOLÍVIA  10/2018  SC           1\n",
              "1188       SOLICITAÇÃO DE REFÚGIO       BOLÍVIA  12/2018  AC           1\n",
              "1189       SOLICITAÇÃO DE REFÚGIO       BOLÍVIA  01/2019  DF           1\n",
              "1190       SOLICITAÇÃO DE REFÚGIO       BOLÍVIA  01/2019  MS           1\n",
              "1191       SOLICITAÇÃO DE REFÚGIO       BOLÍVIA  01/2019  SP           2\n",
              "1192       SOLICITAÇÃO DE REFÚGIO       BOLÍVIA  02/2019  SP           3\n",
              "1193       SOLICITAÇÃO DE REFÚGIO       BOLÍVIA  03/2019  RJ           2\n",
              "1194       SOLICITAÇÃO DE REFÚGIO       BOLÍVIA  03/2019  SP           1\n",
              "\n",
              "[113 rows x 5 columns]"
            ]
          },
          "metadata": {
            "tags": []
          },
          "execution_count": 28
        }
      ]
    },
    {
      "cell_type": "code",
      "metadata": {
        "id": "rW4l5-lzrPSO",
        "colab_type": "code",
        "outputId": "8a5b7385-085f-4d7f-a770-3e2e80c27f6e",
        "colab": {
          "base_uri": "https://localhost:8080/",
          "height": 235
        }
      },
      "source": [
        "dfs.loc[(dfs['Nacionalidade'] == 'BOLÍVIA')  & (dfs['UF'] =='AM')]"
      ],
      "execution_count": 0,
      "outputs": [
        {
          "output_type": "execute_result",
          "data": {
            "text/html": [
              "<div>\n",
              "<style scoped>\n",
              "    .dataframe tbody tr th:only-of-type {\n",
              "        vertical-align: middle;\n",
              "    }\n",
              "\n",
              "    .dataframe tbody tr th {\n",
              "        vertical-align: top;\n",
              "    }\n",
              "\n",
              "    .dataframe thead th {\n",
              "        text-align: right;\n",
              "    }\n",
              "</style>\n",
              "<table border=\"1\" class=\"dataframe\">\n",
              "  <thead>\n",
              "    <tr style=\"text-align: right;\">\n",
              "      <th></th>\n",
              "      <th>Tipo de Alertas e Restrições</th>\n",
              "      <th>Nacionalidade</th>\n",
              "      <th>Mês/Ano</th>\n",
              "      <th>UF</th>\n",
              "      <th>Quantidade</th>\n",
              "    </tr>\n",
              "  </thead>\n",
              "  <tbody>\n",
              "    <tr>\n",
              "      <th>1157</th>\n",
              "      <td>SOLICITAÇÃO DE REFÚGIO</td>\n",
              "      <td>BOLÍVIA</td>\n",
              "      <td>10/2016</td>\n",
              "      <td>AM</td>\n",
              "      <td>1</td>\n",
              "    </tr>\n",
              "    <tr>\n",
              "      <th>1169</th>\n",
              "      <td>SOLICITAÇÃO DE REFÚGIO</td>\n",
              "      <td>BOLÍVIA</td>\n",
              "      <td>01/2018</td>\n",
              "      <td>AM</td>\n",
              "      <td>1</td>\n",
              "    </tr>\n",
              "    <tr>\n",
              "      <th>1173</th>\n",
              "      <td>SOLICITAÇÃO DE REFÚGIO</td>\n",
              "      <td>BOLÍVIA</td>\n",
              "      <td>05/2018</td>\n",
              "      <td>AM</td>\n",
              "      <td>1</td>\n",
              "    </tr>\n",
              "    <tr>\n",
              "      <th>1178</th>\n",
              "      <td>SOLICITAÇÃO DE REFÚGIO</td>\n",
              "      <td>BOLÍVIA</td>\n",
              "      <td>07/2018</td>\n",
              "      <td>AM</td>\n",
              "      <td>1</td>\n",
              "    </tr>\n",
              "    <tr>\n",
              "      <th>1179</th>\n",
              "      <td>SOLICITAÇÃO DE REFÚGIO</td>\n",
              "      <td>BOLÍVIA</td>\n",
              "      <td>08/2018</td>\n",
              "      <td>AM</td>\n",
              "      <td>1</td>\n",
              "    </tr>\n",
              "    <tr>\n",
              "      <th>1184</th>\n",
              "      <td>SOLICITAÇÃO DE REFÚGIO</td>\n",
              "      <td>BOLÍVIA</td>\n",
              "      <td>10/2018</td>\n",
              "      <td>AM</td>\n",
              "      <td>4</td>\n",
              "    </tr>\n",
              "  </tbody>\n",
              "</table>\n",
              "</div>"
            ],
            "text/plain": [
              "     Tipo de Alertas e Restrições Nacionalidade  Mês/Ano  UF  Quantidade\n",
              "1157       SOLICITAÇÃO DE REFÚGIO       BOLÍVIA  10/2016  AM           1\n",
              "1169       SOLICITAÇÃO DE REFÚGIO       BOLÍVIA  01/2018  AM           1\n",
              "1173       SOLICITAÇÃO DE REFÚGIO       BOLÍVIA  05/2018  AM           1\n",
              "1178       SOLICITAÇÃO DE REFÚGIO       BOLÍVIA  07/2018  AM           1\n",
              "1179       SOLICITAÇÃO DE REFÚGIO       BOLÍVIA  08/2018  AM           1\n",
              "1184       SOLICITAÇÃO DE REFÚGIO       BOLÍVIA  10/2018  AM           4"
            ]
          },
          "metadata": {
            "tags": []
          },
          "execution_count": 36
        }
      ]
    },
    {
      "cell_type": "code",
      "metadata": {
        "id": "hhkoktMiq38N",
        "colab_type": "code",
        "outputId": "1187b4e1-317e-4a4e-83e1-fb94a1f2e11b",
        "colab": {
          "base_uri": "https://localhost:8080/",
          "height": 142
        }
      },
      "source": [
        "#selecionando + de 1 Nacionalidade específica\n",
        "dfs.loc[(dfs['Nacionalidade'] == 'UZBEQUISTÃO')  | (dfs['Nacionalidade'] =='ESTÔNIA')]"
      ],
      "execution_count": 0,
      "outputs": [
        {
          "output_type": "execute_result",
          "data": {
            "text/html": [
              "<div>\n",
              "<style scoped>\n",
              "    .dataframe tbody tr th:only-of-type {\n",
              "        vertical-align: middle;\n",
              "    }\n",
              "\n",
              "    .dataframe tbody tr th {\n",
              "        vertical-align: top;\n",
              "    }\n",
              "\n",
              "    .dataframe thead th {\n",
              "        text-align: right;\n",
              "    }\n",
              "</style>\n",
              "<table border=\"1\" class=\"dataframe\">\n",
              "  <thead>\n",
              "    <tr style=\"text-align: right;\">\n",
              "      <th></th>\n",
              "      <th>Tipo de Alertas e Restrições</th>\n",
              "      <th>Nacionalidade</th>\n",
              "      <th>Mês/Ano</th>\n",
              "      <th>UF</th>\n",
              "      <th>Quantidade</th>\n",
              "    </tr>\n",
              "  </thead>\n",
              "  <tbody>\n",
              "    <tr>\n",
              "      <th>3960</th>\n",
              "      <td>SOLICITAÇÃO DE REFÚGIO</td>\n",
              "      <td>ESTÔNIA</td>\n",
              "      <td>12/2017</td>\n",
              "      <td>AM</td>\n",
              "      <td>1</td>\n",
              "    </tr>\n",
              "    <tr>\n",
              "      <th>10693</th>\n",
              "      <td>SOLICITAÇÃO DE REFÚGIO</td>\n",
              "      <td>UZBEQUISTÃO</td>\n",
              "      <td>07/2009</td>\n",
              "      <td>DF</td>\n",
              "      <td>1</td>\n",
              "    </tr>\n",
              "    <tr>\n",
              "      <th>10694</th>\n",
              "      <td>SOLICITAÇÃO DE REFÚGIO</td>\n",
              "      <td>UZBEQUISTÃO</td>\n",
              "      <td>06/2018</td>\n",
              "      <td>SP</td>\n",
              "      <td>2</td>\n",
              "    </tr>\n",
              "  </tbody>\n",
              "</table>\n",
              "</div>"
            ],
            "text/plain": [
              "      Tipo de Alertas e Restrições Nacionalidade  Mês/Ano  UF  Quantidade\n",
              "3960        SOLICITAÇÃO DE REFÚGIO       ESTÔNIA  12/2017  AM           1\n",
              "10693       SOLICITAÇÃO DE REFÚGIO   UZBEQUISTÃO  07/2009  DF           1\n",
              "10694       SOLICITAÇÃO DE REFÚGIO   UZBEQUISTÃO  06/2018  SP           2"
            ]
          },
          "metadata": {
            "tags": []
          },
          "execution_count": 37
        }
      ]
    },
    {
      "cell_type": "markdown",
      "metadata": {
        "id": "lXlFeM50uB59",
        "colab_type": "text"
      },
      "source": [
        "![logos](https://d1nhio0ox7pgb.cloudfront.net/_img/o_collection_png/green_dark_grey/256x256/plain/table.png)"
      ]
    },
    {
      "cell_type": "markdown",
      "metadata": {
        "id": "LGEptXHasqTm",
        "colab_type": "text"
      },
      "source": [
        "Outro **Dataframe** agora ..."
      ]
    },
    {
      "cell_type": "code",
      "metadata": {
        "id": "Od1xnYkTm_kt",
        "colab_type": "code",
        "colab": {}
      },
      "source": [
        "url1 = 'https://www.justica.gov.br/seus-direitos/refugio/anexos/decisoes-conare-ate-jan-2019.xlsx'"
      ],
      "execution_count": 0,
      "outputs": []
    },
    {
      "cell_type": "code",
      "metadata": {
        "id": "Cnysw3XanB-7",
        "colab_type": "code",
        "colab": {}
      },
      "source": [
        "dfd = pd.read_excel(url1,enconding='latin',delimiter=\";\")"
      ],
      "execution_count": 0,
      "outputs": []
    },
    {
      "cell_type": "code",
      "metadata": {
        "id": "KRhSD5ZGnP8j",
        "colab_type": "code",
        "outputId": "fd56d182-2276-43f1-bb0b-7e3a85f6269b",
        "colab": {
          "base_uri": "https://localhost:8080/",
          "height": 204
        }
      },
      "source": [
        "dfd.head()"
      ],
      "execution_count": 0,
      "outputs": [
        {
          "output_type": "execute_result",
          "data": {
            "text/html": [
              "<div>\n",
              "<style scoped>\n",
              "    .dataframe tbody tr th:only-of-type {\n",
              "        vertical-align: middle;\n",
              "    }\n",
              "\n",
              "    .dataframe tbody tr th {\n",
              "        vertical-align: top;\n",
              "    }\n",
              "\n",
              "    .dataframe thead th {\n",
              "        text-align: right;\n",
              "    }\n",
              "</style>\n",
              "<table border=\"1\" class=\"dataframe\">\n",
              "  <thead>\n",
              "    <tr style=\"text-align: right;\">\n",
              "      <th></th>\n",
              "      <th>TOTAL= 1510</th>\n",
              "      <th>STATUS</th>\n",
              "      <th>DATA SOLICITAÇÃO</th>\n",
              "      <th>PAÍS DE ORIGEM</th>\n",
              "      <th>GÊNERO</th>\n",
              "      <th>ANO DE NASCIMENTO</th>\n",
              "      <th>CIDADE SOLICITAÇÃO</th>\n",
              "      <th>ANO DECISÃO</th>\n",
              "    </tr>\n",
              "  </thead>\n",
              "  <tbody>\n",
              "    <tr>\n",
              "      <th>0</th>\n",
              "      <td>NaN</td>\n",
              "      <td>ELEGIBILIDADE / DEFERIMENTO</td>\n",
              "      <td>1993-04-15</td>\n",
              "      <td>ANGOLA</td>\n",
              "      <td>NaN</td>\n",
              "      <td>Desconhecido</td>\n",
              "      <td>RJ (RIO DE JANEIRO)</td>\n",
              "      <td>1993.000000</td>\n",
              "    </tr>\n",
              "    <tr>\n",
              "      <th>1</th>\n",
              "      <td>NaN</td>\n",
              "      <td>ELEGIBILIDADE / DEFERIMENTO</td>\n",
              "      <td>1993-04-15</td>\n",
              "      <td>ANGOLA</td>\n",
              "      <td>NaN</td>\n",
              "      <td>Desconhecido</td>\n",
              "      <td>RJ (RIO DE JANEIRO)</td>\n",
              "      <td>1994.487979</td>\n",
              "    </tr>\n",
              "    <tr>\n",
              "      <th>2</th>\n",
              "      <td>NaN</td>\n",
              "      <td>ELEGIBILIDADE / DEFERIMENTO</td>\n",
              "      <td>1995-06-22</td>\n",
              "      <td>LIBÉRIA</td>\n",
              "      <td>NaN</td>\n",
              "      <td>Desconhecido</td>\n",
              "      <td>RJ (RIO DE JANEIRO)</td>\n",
              "      <td>1995.000000</td>\n",
              "    </tr>\n",
              "    <tr>\n",
              "      <th>3</th>\n",
              "      <td>NaN</td>\n",
              "      <td>ELEGIBILIDADE / DEFERIMENTO</td>\n",
              "      <td>1995-06-22</td>\n",
              "      <td>LIBÉRIA</td>\n",
              "      <td>NaN</td>\n",
              "      <td>Desconhecido</td>\n",
              "      <td>RJ (RIO DE JANEIRO)</td>\n",
              "      <td>1994.487866</td>\n",
              "    </tr>\n",
              "    <tr>\n",
              "      <th>4</th>\n",
              "      <td>NaN</td>\n",
              "      <td>ELEGIBILIDADE / DEFERIMENTO</td>\n",
              "      <td>1992-07-22</td>\n",
              "      <td>APÁTRIDA</td>\n",
              "      <td>NaN</td>\n",
              "      <td>Desconhecido</td>\n",
              "      <td>RJ (RIO DE JANEIRO)</td>\n",
              "      <td>1992.000000</td>\n",
              "    </tr>\n",
              "  </tbody>\n",
              "</table>\n",
              "</div>"
            ],
            "text/plain": [
              "   TOTAL= 1510                       STATUS DATA SOLICITAÇÃO PAÍS DE ORIGEM  \\\n",
              "0          NaN  ELEGIBILIDADE / DEFERIMENTO       1993-04-15         ANGOLA   \n",
              "1          NaN  ELEGIBILIDADE / DEFERIMENTO       1993-04-15         ANGOLA   \n",
              "2          NaN  ELEGIBILIDADE / DEFERIMENTO       1995-06-22        LIBÉRIA   \n",
              "3          NaN  ELEGIBILIDADE / DEFERIMENTO       1995-06-22        LIBÉRIA   \n",
              "4          NaN  ELEGIBILIDADE / DEFERIMENTO       1992-07-22       APÁTRIDA   \n",
              "\n",
              "  GÊNERO ANO DE NASCIMENTO   CIDADE SOLICITAÇÃO  ANO DECISÃO  \n",
              "0    NaN      Desconhecido  RJ (RIO DE JANEIRO)  1993.000000  \n",
              "1    NaN      Desconhecido  RJ (RIO DE JANEIRO)  1994.487979  \n",
              "2    NaN      Desconhecido  RJ (RIO DE JANEIRO)  1995.000000  \n",
              "3    NaN      Desconhecido  RJ (RIO DE JANEIRO)  1994.487866  \n",
              "4    NaN      Desconhecido  RJ (RIO DE JANEIRO)  1992.000000  "
            ]
          },
          "metadata": {
            "tags": []
          },
          "execution_count": 47
        }
      ]
    },
    {
      "cell_type": "code",
      "metadata": {
        "id": "Vn-JnvSps6ac",
        "colab_type": "code",
        "colab": {}
      },
      "source": [
        "dfg = dfd.drop(['TOTAL= 1510'], axis=1)"
      ],
      "execution_count": 0,
      "outputs": []
    },
    {
      "cell_type": "code",
      "metadata": {
        "id": "B8l2HzLzliJD",
        "colab_type": "code",
        "outputId": "896d184c-827f-472c-fac4-e24535ef6b53",
        "colab": {
          "base_uri": "https://localhost:8080/",
          "height": 34
        }
      },
      "source": [
        "# quantidade de linhas e colunas do dataframe\n",
        "dfg.shape"
      ],
      "execution_count": 0,
      "outputs": [
        {
          "output_type": "execute_result",
          "data": {
            "text/plain": [
              "(1515, 7)"
            ]
          },
          "metadata": {
            "tags": []
          },
          "execution_count": 49
        }
      ]
    },
    {
      "cell_type": "code",
      "metadata": {
        "id": "g4qFUbLPluad",
        "colab_type": "code",
        "outputId": "cc8354f7-8579-4fbb-a51d-26fe61108bfd",
        "colab": {
          "base_uri": "https://localhost:8080/",
          "height": 204
        }
      },
      "source": [
        "# as últimas 5 linhas\n",
        "dfg.head()"
      ],
      "execution_count": 0,
      "outputs": [
        {
          "output_type": "execute_result",
          "data": {
            "text/html": [
              "<div>\n",
              "<style scoped>\n",
              "    .dataframe tbody tr th:only-of-type {\n",
              "        vertical-align: middle;\n",
              "    }\n",
              "\n",
              "    .dataframe tbody tr th {\n",
              "        vertical-align: top;\n",
              "    }\n",
              "\n",
              "    .dataframe thead th {\n",
              "        text-align: right;\n",
              "    }\n",
              "</style>\n",
              "<table border=\"1\" class=\"dataframe\">\n",
              "  <thead>\n",
              "    <tr style=\"text-align: right;\">\n",
              "      <th></th>\n",
              "      <th>STATUS</th>\n",
              "      <th>DATA SOLICITAÇÃO</th>\n",
              "      <th>PAÍS DE ORIGEM</th>\n",
              "      <th>GÊNERO</th>\n",
              "      <th>ANO DE NASCIMENTO</th>\n",
              "      <th>CIDADE SOLICITAÇÃO</th>\n",
              "      <th>ANO DECISÃO</th>\n",
              "    </tr>\n",
              "  </thead>\n",
              "  <tbody>\n",
              "    <tr>\n",
              "      <th>0</th>\n",
              "      <td>ELEGIBILIDADE / DEFERIMENTO</td>\n",
              "      <td>1993-04-15</td>\n",
              "      <td>ANGOLA</td>\n",
              "      <td>NaN</td>\n",
              "      <td>Desconhecido</td>\n",
              "      <td>RJ (RIO DE JANEIRO)</td>\n",
              "      <td>1993.000000</td>\n",
              "    </tr>\n",
              "    <tr>\n",
              "      <th>1</th>\n",
              "      <td>ELEGIBILIDADE / DEFERIMENTO</td>\n",
              "      <td>1993-04-15</td>\n",
              "      <td>ANGOLA</td>\n",
              "      <td>NaN</td>\n",
              "      <td>Desconhecido</td>\n",
              "      <td>RJ (RIO DE JANEIRO)</td>\n",
              "      <td>1994.487979</td>\n",
              "    </tr>\n",
              "    <tr>\n",
              "      <th>2</th>\n",
              "      <td>ELEGIBILIDADE / DEFERIMENTO</td>\n",
              "      <td>1995-06-22</td>\n",
              "      <td>LIBÉRIA</td>\n",
              "      <td>NaN</td>\n",
              "      <td>Desconhecido</td>\n",
              "      <td>RJ (RIO DE JANEIRO)</td>\n",
              "      <td>1995.000000</td>\n",
              "    </tr>\n",
              "    <tr>\n",
              "      <th>3</th>\n",
              "      <td>ELEGIBILIDADE / DEFERIMENTO</td>\n",
              "      <td>1995-06-22</td>\n",
              "      <td>LIBÉRIA</td>\n",
              "      <td>NaN</td>\n",
              "      <td>Desconhecido</td>\n",
              "      <td>RJ (RIO DE JANEIRO)</td>\n",
              "      <td>1994.487866</td>\n",
              "    </tr>\n",
              "    <tr>\n",
              "      <th>4</th>\n",
              "      <td>ELEGIBILIDADE / DEFERIMENTO</td>\n",
              "      <td>1992-07-22</td>\n",
              "      <td>APÁTRIDA</td>\n",
              "      <td>NaN</td>\n",
              "      <td>Desconhecido</td>\n",
              "      <td>RJ (RIO DE JANEIRO)</td>\n",
              "      <td>1992.000000</td>\n",
              "    </tr>\n",
              "  </tbody>\n",
              "</table>\n",
              "</div>"
            ],
            "text/plain": [
              "                        STATUS DATA SOLICITAÇÃO PAÍS DE ORIGEM GÊNERO  \\\n",
              "0  ELEGIBILIDADE / DEFERIMENTO       1993-04-15         ANGOLA    NaN   \n",
              "1  ELEGIBILIDADE / DEFERIMENTO       1993-04-15         ANGOLA    NaN   \n",
              "2  ELEGIBILIDADE / DEFERIMENTO       1995-06-22        LIBÉRIA    NaN   \n",
              "3  ELEGIBILIDADE / DEFERIMENTO       1995-06-22        LIBÉRIA    NaN   \n",
              "4  ELEGIBILIDADE / DEFERIMENTO       1992-07-22       APÁTRIDA    NaN   \n",
              "\n",
              "  ANO DE NASCIMENTO   CIDADE SOLICITAÇÃO  ANO DECISÃO  \n",
              "0      Desconhecido  RJ (RIO DE JANEIRO)  1993.000000  \n",
              "1      Desconhecido  RJ (RIO DE JANEIRO)  1994.487979  \n",
              "2      Desconhecido  RJ (RIO DE JANEIRO)  1995.000000  \n",
              "3      Desconhecido  RJ (RIO DE JANEIRO)  1994.487866  \n",
              "4      Desconhecido  RJ (RIO DE JANEIRO)  1992.000000  "
            ]
          },
          "metadata": {
            "tags": []
          },
          "execution_count": 51
        }
      ]
    },
    {
      "cell_type": "code",
      "metadata": {
        "id": "zqEuTkrRlvGr",
        "colab_type": "code",
        "outputId": "fbd0bd38-af17-446c-9295-05a5dd765a01",
        "colab": {
          "base_uri": "https://localhost:8080/",
          "height": 153
        }
      },
      "source": [
        "# após a importação e visualização, como serão as colunas e características do nosso Dataframe?\n",
        "dfg.dtypes"
      ],
      "execution_count": 0,
      "outputs": [
        {
          "output_type": "execute_result",
          "data": {
            "text/plain": [
              "STATUS                        object\n",
              "DATA SOLICITAÇÃO      datetime64[ns]\n",
              "PAÍS DE ORIGEM                object\n",
              "GÊNERO                        object\n",
              "ANO DE NASCIMENTO             object\n",
              "CIDADE SOLICITAÇÃO            object\n",
              "ANO DECISÃO                  float64\n",
              "dtype: object"
            ]
          },
          "metadata": {
            "tags": []
          },
          "execution_count": 52
        }
      ]
    },
    {
      "cell_type": "code",
      "metadata": {
        "id": "HZpW3qSGnAOO",
        "colab_type": "code",
        "outputId": "50e2f2cd-c5bf-447b-b948-81a7307bc8cc",
        "colab": {
          "base_uri": "https://localhost:8080/",
          "height": 867
        }
      },
      "source": [
        "dfg['PAÍS DE ORIGEM'].value_counts()"
      ],
      "execution_count": 0,
      "outputs": [
        {
          "output_type": "execute_result",
          "data": {
            "text/plain": [
              "ANGOLA                   861\n",
              "LIBÉRIA                  182\n",
              "ZAIRE                     93\n",
              "CUBA                      64\n",
              "IRAQUE                    57\n",
              "IUGOSLÁVIA                37\n",
              "PERU                      28\n",
              "SERRA LEOA                20\n",
              "IRÃ                       17\n",
              "RUANDA                    15\n",
              "ARGENTINA                 13\n",
              "NIGÉRIA                   12\n",
              "LÍBANO                    11\n",
              "SOMÁLIA                   10\n",
              "SUDÃO                      8\n",
              "APÁTRIDA                   7\n",
              "SÉRVIA                     5\n",
              "GANA                       5\n",
              "MACEDÔNIA                  5\n",
              "ETIÓPIA                    4\n",
              "EL SALVADOR                4\n",
              "ARGÉLIA                    4\n",
              "EGITO                      4\n",
              "CROÁCIA                    4\n",
              "VIETNÃ                     3\n",
              "ÁFRICA DO SUL              3\n",
              "SÍRIA                      3\n",
              "LÍBIA                      3\n",
              "ARMÊNIA                    2\n",
              "MOÇAMBIQUE                 2\n",
              "CAMARÕES                   2\n",
              "GUIANA                     2\n",
              "PALESTINA                  2\n",
              "TANZANIA                   2\n",
              "REPÚBLICA DOMINICANA       2\n",
              "MAURITÂNIA                 2\n",
              "GUINÉ-BISSAU               2\n",
              "MALI                       1\n",
              "SRI-LANKA                  1\n",
              "\"PAÍS FORA DA TABELA\"      1\n",
              "BURUNDI                    1\n",
              "BÓSNIA E HEZERGOVINA       1\n",
              "ROMÊNIA                    1\n",
              "NICARÁGUA                  1\n",
              "COLÔMBIA                   1\n",
              "CHILE                      1\n",
              "PAQUISTÃO                  1\n",
              "BURKINA FASO               1\n",
              "                           1\n",
              "Name: PAÍS DE ORIGEM, dtype: int64"
            ]
          },
          "metadata": {
            "tags": []
          },
          "execution_count": 53
        }
      ]
    },
    {
      "cell_type": "code",
      "metadata": {
        "id": "VIs8lT-dnARw",
        "colab_type": "code",
        "outputId": "771687e3-2a02-441e-aea4-0c1866c620f3",
        "colab": {
          "base_uri": "https://localhost:8080/",
          "height": 51
        }
      },
      "source": [
        "dfg['STATUS'].value_counts()"
      ],
      "execution_count": 0,
      "outputs": [
        {
          "output_type": "execute_result",
          "data": {
            "text/plain": [
              "ELEGIBILIDADE / DEFERIMENTO    1503\n",
              "Name: STATUS, dtype: int64"
            ]
          },
          "metadata": {
            "tags": []
          },
          "execution_count": 55
        }
      ]
    }
  ]
}